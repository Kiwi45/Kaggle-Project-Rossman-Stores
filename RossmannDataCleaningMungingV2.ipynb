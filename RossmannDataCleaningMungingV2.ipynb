{
 "cells": [
  {
   "cell_type": "markdown",
   "metadata": {},
   "source": [
    "## Load Libraries and Packages"
   ]
  },
  {
   "cell_type": "code",
   "execution_count": 22,
   "metadata": {
    "collapsed": true
   },
   "outputs": [],
   "source": [
    "import datetime\n",
    "import numpy as np\n",
    "from numpy import double\n",
    "import pandas as pd"
   ]
  },
  {
   "cell_type": "code",
   "execution_count": 23,
   "metadata": {
    "collapsed": false
   },
   "outputs": [
    {
     "name": "stdout",
     "output_type": "stream",
     "text": [
      "/Users/2015/Dropbox/Data Science/NYC Data Science Academy/class-projects/Rossmann/KaggleProject/KaggleProject\n"
     ]
    }
   ],
   "source": [
    "cd \"/Users/2015/Dropbox/Data Science/NYC Data Science Academy/class-projects/Rossmann/KaggleProject/KaggleProject\""
   ]
  },
  {
   "cell_type": "markdown",
   "metadata": {},
   "source": [
    "## Load Data"
   ]
  },
  {
   "cell_type": "code",
   "execution_count": 24,
   "metadata": {
    "collapsed": false
   },
   "outputs": [
    {
     "name": "stdout",
     "output_type": "stream",
     "text": [
      "Loading data start...\n",
      "Complete!   : )\n"
     ]
    }
   ],
   "source": [
    "print(\"Loading data start...\")\n",
    "train = pd.read_csv(\"input/train.csv\")\n",
    "test = pd.read_csv(\"input/test.csv\")\n",
    "store = pd.read_csv(\"input/store.csv\")\n",
    "states = pd.read_csv(\"input/store_states.csv\")\n",
    "print(\"Complete!   : )\")"
   ]
  },
  {
   "cell_type": "markdown",
   "metadata": {},
   "source": [
    "## Process Data:\n",
    "#### 1: Impute open = 1 for missing open test dasta\n",
    "#### 2: Separate date column into year, month, day\n",
    "#### 3: Convert date column to type 'date' and extract:\n",
    "* day_of_year\n",
    "* week_of_year\n",
    "* quarter\n",
    "* month start\n",
    "* month end\n",
    "* quarter start\n",
    "* quarter end\n",
    "\n",
    "#### 4: Drop date and standardize StateHoliday\n",
    "#### 5: Create promotion one feature\n",
    "#### 6: Merge data\n",
    "#### 7: Dumify categorical variables"
   ]
  },
  {
   "cell_type": "code",
   "execution_count": 25,
   "metadata": {
    "collapsed": false
   },
   "outputs": [
    {
     "name": "stdout",
     "output_type": "stream",
     "text": [
      "Step 1 Complete.\n",
      "Step 2 Complete.\n",
      "Step 3 Complete.\n",
      "Step 4 Complete.\n",
      "Step 5 Complete.\n",
      "Step 6 Complete.\n",
      "Step 7 Complete.\n"
     ]
    },
    {
     "name": "stderr",
     "output_type": "stream",
     "text": [
      "/Users/2015/anaconda/lib/python2.7/site-packages/ipykernel/__main__.py:31: FutureWarning: sort(columns=....) is deprecated, use sort_values(by=.....)\n"
     ]
    },
    {
     "data": {
      "text/html": [
       "<div>\n",
       "<table border=\"1\" class=\"dataframe\">\n",
       "  <thead>\n",
       "    <tr style=\"text-align: right;\">\n",
       "      <th></th>\n",
       "      <th>Store</th>\n",
       "      <th>DayOfWeek</th>\n",
       "      <th>Date</th>\n",
       "      <th>Sales</th>\n",
       "      <th>Customers</th>\n",
       "      <th>Open</th>\n",
       "      <th>Promo</th>\n",
       "      <th>SchoolHoliday</th>\n",
       "      <th>year</th>\n",
       "      <th>month</th>\n",
       "      <th>...</th>\n",
       "      <th>PromoInterval</th>\n",
       "      <th>State</th>\n",
       "      <th>StateHoliday_a</th>\n",
       "      <th>StateHoliday_b</th>\n",
       "      <th>StateHoliday_c</th>\n",
       "      <th>StoreType_b</th>\n",
       "      <th>StoreType_c</th>\n",
       "      <th>StoreType_d</th>\n",
       "      <th>Assortment_b</th>\n",
       "      <th>Assortment_c</th>\n",
       "    </tr>\n",
       "  </thead>\n",
       "  <tbody>\n",
       "    <tr>\n",
       "      <th>0</th>\n",
       "      <td>1</td>\n",
       "      <td>2</td>\n",
       "      <td>2013-01-01</td>\n",
       "      <td>0</td>\n",
       "      <td>0</td>\n",
       "      <td>0</td>\n",
       "      <td>0</td>\n",
       "      <td>1</td>\n",
       "      <td>2013</td>\n",
       "      <td>1</td>\n",
       "      <td>...</td>\n",
       "      <td>NaN</td>\n",
       "      <td>HE</td>\n",
       "      <td>1</td>\n",
       "      <td>0</td>\n",
       "      <td>0</td>\n",
       "      <td>0</td>\n",
       "      <td>1</td>\n",
       "      <td>0</td>\n",
       "      <td>0</td>\n",
       "      <td>0</td>\n",
       "    </tr>\n",
       "    <tr>\n",
       "      <th>1</th>\n",
       "      <td>1</td>\n",
       "      <td>3</td>\n",
       "      <td>2013-01-02</td>\n",
       "      <td>5530</td>\n",
       "      <td>668</td>\n",
       "      <td>1</td>\n",
       "      <td>0</td>\n",
       "      <td>1</td>\n",
       "      <td>2013</td>\n",
       "      <td>1</td>\n",
       "      <td>...</td>\n",
       "      <td>NaN</td>\n",
       "      <td>HE</td>\n",
       "      <td>0</td>\n",
       "      <td>0</td>\n",
       "      <td>0</td>\n",
       "      <td>0</td>\n",
       "      <td>1</td>\n",
       "      <td>0</td>\n",
       "      <td>0</td>\n",
       "      <td>0</td>\n",
       "    </tr>\n",
       "    <tr>\n",
       "      <th>2</th>\n",
       "      <td>1</td>\n",
       "      <td>4</td>\n",
       "      <td>2013-01-03</td>\n",
       "      <td>4327</td>\n",
       "      <td>578</td>\n",
       "      <td>1</td>\n",
       "      <td>0</td>\n",
       "      <td>1</td>\n",
       "      <td>2013</td>\n",
       "      <td>1</td>\n",
       "      <td>...</td>\n",
       "      <td>NaN</td>\n",
       "      <td>HE</td>\n",
       "      <td>0</td>\n",
       "      <td>0</td>\n",
       "      <td>0</td>\n",
       "      <td>0</td>\n",
       "      <td>1</td>\n",
       "      <td>0</td>\n",
       "      <td>0</td>\n",
       "      <td>0</td>\n",
       "    </tr>\n",
       "    <tr>\n",
       "      <th>3</th>\n",
       "      <td>1</td>\n",
       "      <td>5</td>\n",
       "      <td>2013-01-04</td>\n",
       "      <td>4486</td>\n",
       "      <td>619</td>\n",
       "      <td>1</td>\n",
       "      <td>0</td>\n",
       "      <td>1</td>\n",
       "      <td>2013</td>\n",
       "      <td>1</td>\n",
       "      <td>...</td>\n",
       "      <td>NaN</td>\n",
       "      <td>HE</td>\n",
       "      <td>0</td>\n",
       "      <td>0</td>\n",
       "      <td>0</td>\n",
       "      <td>0</td>\n",
       "      <td>1</td>\n",
       "      <td>0</td>\n",
       "      <td>0</td>\n",
       "      <td>0</td>\n",
       "    </tr>\n",
       "    <tr>\n",
       "      <th>4</th>\n",
       "      <td>1</td>\n",
       "      <td>6</td>\n",
       "      <td>2013-01-05</td>\n",
       "      <td>4997</td>\n",
       "      <td>635</td>\n",
       "      <td>1</td>\n",
       "      <td>0</td>\n",
       "      <td>1</td>\n",
       "      <td>2013</td>\n",
       "      <td>1</td>\n",
       "      <td>...</td>\n",
       "      <td>NaN</td>\n",
       "      <td>HE</td>\n",
       "      <td>0</td>\n",
       "      <td>0</td>\n",
       "      <td>0</td>\n",
       "      <td>0</td>\n",
       "      <td>1</td>\n",
       "      <td>0</td>\n",
       "      <td>0</td>\n",
       "      <td>0</td>\n",
       "    </tr>\n",
       "  </tbody>\n",
       "</table>\n",
       "<p>5 rows × 35 columns</p>\n",
       "</div>"
      ],
      "text/plain": [
       "  Store DayOfWeek       Date Sales Customers Open Promo SchoolHoliday  year  \\\n",
       "0     1         2 2013-01-01     0         0    0     0             1  2013   \n",
       "1     1         3 2013-01-02  5530       668    1     0             1  2013   \n",
       "2     1         4 2013-01-03  4327       578    1     0             1  2013   \n",
       "3     1         5 2013-01-04  4486       619    1     0             1  2013   \n",
       "4     1         6 2013-01-05  4997       635    1     0             1  2013   \n",
       "\n",
       "  month      ...      PromoInterval State StateHoliday_a StateHoliday_b  \\\n",
       "0     1      ...                NaN    HE              1              0   \n",
       "1     1      ...                NaN    HE              0              0   \n",
       "2     1      ...                NaN    HE              0              0   \n",
       "3     1      ...                NaN    HE              0              0   \n",
       "4     1      ...                NaN    HE              0              0   \n",
       "\n",
       "  StateHoliday_c StoreType_b StoreType_c StoreType_d  Assortment_b  \\\n",
       "0              0           0           1           0             0   \n",
       "1              0           0           1           0             0   \n",
       "2              0           0           1           0             0   \n",
       "3              0           0           1           0             0   \n",
       "4              0           0           1           0             0   \n",
       "\n",
       "   Assortment_c  \n",
       "0             0  \n",
       "1             0  \n",
       "2             0  \n",
       "3             0  \n",
       "4             0  \n",
       "\n",
       "[5 rows x 35 columns]"
      ]
     },
     "execution_count": 25,
     "metadata": {},
     "output_type": "execute_result"
    }
   ],
   "source": [
    "# 1: Impute Open = 1 for store 622 in test data\n",
    "test['Open'].fillna(1, inplace=True)\n",
    "print 'Step 1 Complete.'\n",
    "\n",
    "# 2: Separate date columns\n",
    "train['year'] = train.Date.apply(lambda x: x.split('-')[0])\n",
    "train['year'] = train['year'].astype(int)\n",
    "train['month'] = train.Date.apply(lambda x: x.split('-')[1])\n",
    "train['month'] = train['month'].astype(int)\n",
    "train['day'] = train.Date.apply(lambda x: x.split('-')[2])\n",
    "train['day'] = train['day'].astype(int)\n",
    "print 'Step 2 Complete.'\n",
    "\n",
    "# 3: Withdraw multiple date features\n",
    "train['Date'] = pd.to_datetime(train['Date'])\n",
    "train['day_of_year'] = train['Date'].dt.dayofyear\n",
    "train['week_of_year'] = train['Date'].dt.weekofyear\n",
    "train['quarter'] = train['Date'].dt.quarter\n",
    "train['is_month_start'] = train['Date'].dt.is_month_start.astype(int)\n",
    "train['is_month_end'] = train['Date'].dt.is_month_end.astype(int)\n",
    "train['is_quarter_start'] = train['Date'].dt.is_quarter_start.astype(int)\n",
    "train['is_quarter_end'] = train['Date'].dt.is_quarter_end.astype(int)\n",
    "print 'Step 3 Complete.'\n",
    "\n",
    "# 4: Drop date and standardize StateHoliday column.\n",
    "# train = train.drop('Date',1)\n",
    "train.ix[(train['StateHoliday'] == 0)] = '0'\n",
    "print 'Step 4 Complete.'\n",
    "\n",
    "# 5: Create duration of promo 1\n",
    "train = train.sort(columns = ['Store', 'Date'], ascending = True, na_position = 'last')\n",
    "train.ix[(train['Promo'] == 1 ) & (train['Promo'].shift(1) ==0), 'PromoFirstDate'] = 1\n",
    "print 'Step 5 Complete.'\n",
    "\n",
    "# 6: Merge store and location features with training data\n",
    "tm_temp = pd.merge(train, store, on = 'Store', how = 'outer')\n",
    "tm = pd.merge(tm_temp, states, on = 'Store', how = 'outer')\n",
    "print 'Step 6 Complete.'\n",
    "\n",
    "# 7: Create features for all state holidays, store types and assortments\n",
    "tm_SH = pd.get_dummies(tm.StateHoliday,'StateHoliday')\n",
    "tm_ST = pd.get_dummies(tm.StoreType, 'StoreType')\n",
    "tm_AS = pd.get_dummies(tm.Assortment, 'Assortment')\n",
    "tm_dummy = pd.concat([tm, tm_SH[tm_SH.columns[1:]]],axis = 1)\n",
    "tm_dummy = pd.concat([tm_dummy, tm_ST[tm_ST.columns[1:]]],axis = 1)\n",
    "tm_final = pd.concat([tm_dummy, tm_AS[tm_AS.columns[1:]]],axis = 1)\n",
    "tm_final.drop(['StateHoliday', 'StoreType', 'Assortment'],1,inplace=True)\n",
    "print 'Step 7 Complete.'\n",
    "\n",
    "tm_final.head()"
   ]
  },
  {
   "cell_type": "code",
   "execution_count": null,
   "metadata": {
    "collapsed": true
   },
   "outputs": [],
   "source": []
  }
 ],
 "metadata": {
  "kernelspec": {
   "display_name": "Python 2",
   "language": "python",
   "name": "python2"
  },
  "language_info": {
   "codemirror_mode": {
    "name": "ipython",
    "version": 2
   },
   "file_extension": ".py",
   "mimetype": "text/x-python",
   "name": "python",
   "nbconvert_exporter": "python",
   "pygments_lexer": "ipython2",
   "version": "2.7.10"
  }
 },
 "nbformat": 4,
 "nbformat_minor": 0
}

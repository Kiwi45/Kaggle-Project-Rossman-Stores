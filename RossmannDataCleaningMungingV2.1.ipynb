{
 "cells": [
  {
   "cell_type": "markdown",
   "metadata": {},
   "source": [
    "## Load Libraries and Packages"
   ]
  },
  {
   "cell_type": "code",
   "execution_count": 1,
   "metadata": {
    "collapsed": true
   },
   "outputs": [],
   "source": [
    "import datetime\n",
    "import numpy as np\n",
    "from numpy import double\n",
    "import pandas as pd"
   ]
  },
  {
   "cell_type": "markdown",
   "metadata": {},
   "source": [
    "## Load Data"
   ]
  },
  {
   "cell_type": "code",
   "execution_count": 2,
   "metadata": {
    "collapsed": false
   },
   "outputs": [
    {
     "name": "stdout",
     "output_type": "stream",
     "text": [
      "Loading data start...\n",
      "Complete!   : )\n"
     ]
    },
    {
     "name": "stderr",
     "output_type": "stream",
     "text": [
      "/Users/jfdarre/anaconda/lib/python2.7/site-packages/pandas/io/parsers.py:1170: DtypeWarning: Columns (7) have mixed types. Specify dtype option on import or set low_memory=False.\n",
      "  data = self._reader.read(nrows)\n"
     ]
    }
   ],
   "source": [
    "print(\"Loading data start...\")\n",
    "train = pd.read_csv(\"input/train.csv\")\n",
    "test = pd.read_csv(\"input/test.csv\")\n",
    "store = pd.read_csv(\"input/store.csv\")\n",
    "states = pd.read_csv(\"input/store_states.csv\")\n",
    "print(\"Complete!   : )\")"
   ]
  },
  {
   "cell_type": "markdown",
   "metadata": {},
   "source": [
    "## Process Data:\n",
    "#### 1: Impute open = 1 for missing open test dasta\n",
    "#### 2: Separate date column into year, month, day\n",
    "#### 3: Convert date column to type 'date' and extract:\n",
    "* day_of_year\n",
    "* week_of_year\n",
    "* quarter\n",
    "* month start\n",
    "* month end\n",
    "* quarter start\n",
    "* quarter end\n",
    "\n",
    "#### 4: Drop date and standardize StateHoliday\n",
    "#### 5: Create promotion one feature\n",
    "#### 6: Merge data\n",
    "#### 7: Dumify categorical variables"
   ]
  },
  {
   "cell_type": "code",
   "execution_count": 3,
   "metadata": {
    "collapsed": false
   },
   "outputs": [
    {
     "name": "stdout",
     "output_type": "stream",
     "text": [
      "Step 1 Complete.\n"
     ]
    }
   ],
   "source": [
    "# 1: Impute Open = 1 for store 622 in test data\n",
    "test['Open'].fillna(1, inplace=True)\n",
    "print 'Step 1 Complete.'"
   ]
  },
  {
   "cell_type": "code",
   "execution_count": 4,
   "metadata": {
    "collapsed": false
   },
   "outputs": [
    {
     "name": "stdout",
     "output_type": "stream",
     "text": [
      "Step 2 Complete.\n"
     ]
    }
   ],
   "source": [
    "# 2: Separate date columns\n",
    "train['year'] = train.Date.apply(lambda x: x.split('-')[0])\n",
    "train['year'] = train['year'].astype(int)\n",
    "train['month'] = train.Date.apply(lambda x: x.split('-')[1])\n",
    "train['month'] = train['month'].astype(int)\n",
    "train['day'] = train.Date.apply(lambda x: x.split('-')[2])\n",
    "train['day'] = train['day'].astype(int)\n",
    "print 'Step 2 Complete.'"
   ]
  },
  {
   "cell_type": "code",
   "execution_count": 5,
   "metadata": {
    "collapsed": false
   },
   "outputs": [
    {
     "name": "stdout",
     "output_type": "stream",
     "text": [
      "Step 3 Complete.\n"
     ]
    }
   ],
   "source": [
    "# 3: Withdraw multiple date features\n",
    "train['Date'] = pd.to_datetime(train['Date'])\n",
    "train['day_of_year'] = train['Date'].dt.dayofyear\n",
    "train['week_of_year'] = train['Date'].dt.weekofyear\n",
    "train['quarter'] = train['Date'].dt.quarter\n",
    "train['is_month_start'] = train['Date'].dt.is_month_start.astype(int)\n",
    "train['is_month_end'] = train['Date'].dt.is_month_end.astype(int)\n",
    "train['is_quarter_start'] = train['Date'].dt.is_quarter_start.astype(int)\n",
    "train['is_quarter_end'] = train['Date'].dt.is_quarter_end.astype(int)\n",
    "print 'Step 3 Complete.'"
   ]
  },
  {
   "cell_type": "code",
   "execution_count": 6,
   "metadata": {
    "collapsed": false
   },
   "outputs": [
    {
     "name": "stdout",
     "output_type": "stream",
     "text": [
      "Step 4 Complete.\n"
     ]
    }
   ],
   "source": [
    "# 4: Drop date and standardize StateHoliday column.\n",
    "# train = train.drop('Date',1)\n",
    "train.ix[(train['StateHoliday'] == 0), 'StateHoliday'] = '0'\n",
    "#train['StateHoliday'] = map(lambda x: '0' if x == 0 else x, train['StateHoliday'])\n",
    "print 'Step 4 Complete.'"
   ]
  },
  {
   "cell_type": "code",
   "execution_count": 7,
   "metadata": {
    "collapsed": false
   },
   "outputs": [
    {
     "name": "stdout",
     "output_type": "stream",
     "text": [
      "Step 5 Complete.\n"
     ]
    }
   ],
   "source": [
    "# 5: Create duration of promo 1\n",
    "train = train.sort(columns = ['Store', 'Date'], ascending = True, na_position = 'last')\n",
    "train['PromoFirstDate'] = 0\n",
    "train.ix[(train['Promo'] == 1 ) & (train['Promo'].shift(1) ==0), 'PromoFirstDate'] = 1\n",
    "print 'Step 5 Complete.'"
   ]
  },
  {
   "cell_type": "code",
   "execution_count": 8,
   "metadata": {
    "collapsed": false
   },
   "outputs": [
    {
     "name": "stdout",
     "output_type": "stream",
     "text": [
      "Step 6 Complete.\n"
     ]
    }
   ],
   "source": [
    "# 6: Merge store and location features with training data\n",
    "tm_temp = pd.merge(train, store, on = 'Store', how = 'outer')\n",
    "tm = pd.merge(tm_temp, states, on = 'Store', how = 'outer')\n",
    "print 'Step 6 Complete.'\n"
   ]
  },
  {
   "cell_type": "markdown",
   "metadata": {},
   "source": [
    "# Output CSV files for R"
   ]
  },
  {
   "cell_type": "code",
   "execution_count": 9,
   "metadata": {
    "collapsed": false
   },
   "outputs": [],
   "source": [
    "tm.to_csv(\"data/train_store_states_R.csv\")"
   ]
  },
  {
   "cell_type": "code",
   "execution_count": 18,
   "metadata": {
    "collapsed": false
   },
   "outputs": [
    {
     "name": "stdout",
     "output_type": "stream",
     "text": [
      "Step 7 Complete.\n"
     ]
    },
    {
     "data": {
      "text/html": [
       "<div>\n",
       "<table border=\"1\" class=\"dataframe\">\n",
       "  <thead>\n",
       "    <tr style=\"text-align: right;\">\n",
       "      <th></th>\n",
       "      <th>Store</th>\n",
       "      <th>DayOfWeek</th>\n",
       "      <th>Date</th>\n",
       "      <th>Sales</th>\n",
       "      <th>Customers</th>\n",
       "      <th>Open</th>\n",
       "      <th>Promo</th>\n",
       "      <th>SchoolHoliday</th>\n",
       "      <th>year</th>\n",
       "      <th>month</th>\n",
       "      <th>...</th>\n",
       "      <th>State_ST</th>\n",
       "      <th>State_TH</th>\n",
       "      <th>StateHoliday_a</th>\n",
       "      <th>StateHoliday_b</th>\n",
       "      <th>StateHoliday_c</th>\n",
       "      <th>StoreType_b</th>\n",
       "      <th>StoreType_c</th>\n",
       "      <th>StoreType_d</th>\n",
       "      <th>Assortment_b</th>\n",
       "      <th>Assortment_c</th>\n",
       "    </tr>\n",
       "  </thead>\n",
       "  <tbody>\n",
       "    <tr>\n",
       "      <th>0</th>\n",
       "      <td>1</td>\n",
       "      <td>2</td>\n",
       "      <td>2013-01-01</td>\n",
       "      <td>0</td>\n",
       "      <td>0</td>\n",
       "      <td>0</td>\n",
       "      <td>0</td>\n",
       "      <td>1</td>\n",
       "      <td>2013</td>\n",
       "      <td>1</td>\n",
       "      <td>...</td>\n",
       "      <td>0</td>\n",
       "      <td>0</td>\n",
       "      <td>1</td>\n",
       "      <td>0</td>\n",
       "      <td>0</td>\n",
       "      <td>0</td>\n",
       "      <td>1</td>\n",
       "      <td>0</td>\n",
       "      <td>0</td>\n",
       "      <td>0</td>\n",
       "    </tr>\n",
       "    <tr>\n",
       "      <th>1</th>\n",
       "      <td>1</td>\n",
       "      <td>3</td>\n",
       "      <td>2013-01-02</td>\n",
       "      <td>5530</td>\n",
       "      <td>668</td>\n",
       "      <td>1</td>\n",
       "      <td>0</td>\n",
       "      <td>1</td>\n",
       "      <td>2013</td>\n",
       "      <td>1</td>\n",
       "      <td>...</td>\n",
       "      <td>0</td>\n",
       "      <td>0</td>\n",
       "      <td>0</td>\n",
       "      <td>0</td>\n",
       "      <td>0</td>\n",
       "      <td>0</td>\n",
       "      <td>1</td>\n",
       "      <td>0</td>\n",
       "      <td>0</td>\n",
       "      <td>0</td>\n",
       "    </tr>\n",
       "    <tr>\n",
       "      <th>2</th>\n",
       "      <td>1</td>\n",
       "      <td>4</td>\n",
       "      <td>2013-01-03</td>\n",
       "      <td>4327</td>\n",
       "      <td>578</td>\n",
       "      <td>1</td>\n",
       "      <td>0</td>\n",
       "      <td>1</td>\n",
       "      <td>2013</td>\n",
       "      <td>1</td>\n",
       "      <td>...</td>\n",
       "      <td>0</td>\n",
       "      <td>0</td>\n",
       "      <td>0</td>\n",
       "      <td>0</td>\n",
       "      <td>0</td>\n",
       "      <td>0</td>\n",
       "      <td>1</td>\n",
       "      <td>0</td>\n",
       "      <td>0</td>\n",
       "      <td>0</td>\n",
       "    </tr>\n",
       "    <tr>\n",
       "      <th>3</th>\n",
       "      <td>1</td>\n",
       "      <td>5</td>\n",
       "      <td>2013-01-04</td>\n",
       "      <td>4486</td>\n",
       "      <td>619</td>\n",
       "      <td>1</td>\n",
       "      <td>0</td>\n",
       "      <td>1</td>\n",
       "      <td>2013</td>\n",
       "      <td>1</td>\n",
       "      <td>...</td>\n",
       "      <td>0</td>\n",
       "      <td>0</td>\n",
       "      <td>0</td>\n",
       "      <td>0</td>\n",
       "      <td>0</td>\n",
       "      <td>0</td>\n",
       "      <td>1</td>\n",
       "      <td>0</td>\n",
       "      <td>0</td>\n",
       "      <td>0</td>\n",
       "    </tr>\n",
       "    <tr>\n",
       "      <th>4</th>\n",
       "      <td>1</td>\n",
       "      <td>6</td>\n",
       "      <td>2013-01-05</td>\n",
       "      <td>4997</td>\n",
       "      <td>635</td>\n",
       "      <td>1</td>\n",
       "      <td>0</td>\n",
       "      <td>1</td>\n",
       "      <td>2013</td>\n",
       "      <td>1</td>\n",
       "      <td>...</td>\n",
       "      <td>0</td>\n",
       "      <td>0</td>\n",
       "      <td>0</td>\n",
       "      <td>0</td>\n",
       "      <td>0</td>\n",
       "      <td>0</td>\n",
       "      <td>1</td>\n",
       "      <td>0</td>\n",
       "      <td>0</td>\n",
       "      <td>0</td>\n",
       "    </tr>\n",
       "  </tbody>\n",
       "</table>\n",
       "<p>5 rows × 45 columns</p>\n",
       "</div>"
      ],
      "text/plain": [
       "   Store  DayOfWeek       Date  Sales  Customers  Open  Promo  SchoolHoliday  \\\n",
       "0      1          2 2013-01-01      0          0     0      0              1   \n",
       "1      1          3 2013-01-02   5530        668     1      0              1   \n",
       "2      1          4 2013-01-03   4327        578     1      0              1   \n",
       "3      1          5 2013-01-04   4486        619     1      0              1   \n",
       "4      1          6 2013-01-05   4997        635     1      0              1   \n",
       "\n",
       "   year  month      ...       State_ST  State_TH  StateHoliday_a  \\\n",
       "0  2013      1      ...              0         0               1   \n",
       "1  2013      1      ...              0         0               0   \n",
       "2  2013      1      ...              0         0               0   \n",
       "3  2013      1      ...              0         0               0   \n",
       "4  2013      1      ...              0         0               0   \n",
       "\n",
       "   StateHoliday_b  StateHoliday_c  StoreType_b  StoreType_c  StoreType_d  \\\n",
       "0               0               0            0            1            0   \n",
       "1               0               0            0            1            0   \n",
       "2               0               0            0            1            0   \n",
       "3               0               0            0            1            0   \n",
       "4               0               0            0            1            0   \n",
       "\n",
       "   Assortment_b  Assortment_c  \n",
       "0             0             0  \n",
       "1             0             0  \n",
       "2             0             0  \n",
       "3             0             0  \n",
       "4             0             0  \n",
       "\n",
       "[5 rows x 45 columns]"
      ]
     },
     "execution_count": 18,
     "metadata": {},
     "output_type": "execute_result"
    }
   ],
   "source": [
    "# 7: Create features for all state holidays, store types and assortments\n",
    "tm_SH    = pd.get_dummies(tm.StateHoliday,'StateHoliday')\n",
    "tm_ST    = pd.get_dummies(tm.StoreType, 'StoreType')\n",
    "tm_AS    = pd.get_dummies(tm.Assortment, 'Assortment')\n",
    "tm_State = pd.get_dummies(tm.State, 'State')\n",
    "\n",
    "tm_dummy = pd.concat([tm, tm_State[tm_State.columns[1:]]],axis = 1)\n",
    "tm_dummy = pd.concat([tm_dummy, tm_SH[tm_SH.columns[1:]]],axis = 1)\n",
    "tm_dummy = pd.concat([tm_dummy, tm_ST[tm_ST.columns[1:]]],axis = 1)\n",
    "tm_final = pd.concat([tm_dummy, tm_AS[tm_AS.columns[1:]]],axis = 1)\n",
    "tm_final.drop(['StateHoliday', 'StoreType', 'Assortment', 'State'],1,inplace=True)\n",
    "print 'Step 7 Complete.'\n",
    "\n",
    "tm_final.head()"
   ]
  },
  {
   "cell_type": "code",
   "execution_count": 19,
   "metadata": {
    "collapsed": false
   },
   "outputs": [
    {
     "data": {
      "text/plain": [
       "Store                                 int64\n",
       "DayOfWeek                             int64\n",
       "Date                         datetime64[ns]\n",
       "Sales                                 int64\n",
       "Customers                             int64\n",
       "Open                                  int64\n",
       "Promo                                 int64\n",
       "SchoolHoliday                         int64\n",
       "year                                  int64\n",
       "month                                 int64\n",
       "day                                   int64\n",
       "day_of_year                           int64\n",
       "week_of_year                          int64\n",
       "quarter                               int64\n",
       "is_month_start                        int64\n",
       "is_month_end                          int64\n",
       "is_quarter_start                      int64\n",
       "is_quarter_end                        int64\n",
       "PromoFirstDate                        int64\n",
       "CompetitionDistance                 float64\n",
       "CompetitionOpenSinceMonth           float64\n",
       "CompetitionOpenSinceYear            float64\n",
       "Promo2                                int64\n",
       "Promo2SinceWeek                     float64\n",
       "Promo2SinceYear                     float64\n",
       "PromoInterval                        object\n",
       "State_BW                            float64\n",
       "State_BY                            float64\n",
       "State_HB,NI                         float64\n",
       "State_HE                            float64\n",
       "State_HH                            float64\n",
       "State_NW                            float64\n",
       "State_RP                            float64\n",
       "State_SH                            float64\n",
       "State_SN                            float64\n",
       "State_ST                            float64\n",
       "State_TH                            float64\n",
       "StateHoliday_a                      float64\n",
       "StateHoliday_b                      float64\n",
       "StateHoliday_c                      float64\n",
       "StoreType_b                         float64\n",
       "StoreType_c                         float64\n",
       "StoreType_d                         float64\n",
       "Assortment_b                        float64\n",
       "Assortment_c                        float64\n",
       "dtype: object"
      ]
     },
     "execution_count": 19,
     "metadata": {},
     "output_type": "execute_result"
    }
   ],
   "source": [
    "tm_final.dtypes"
   ]
  },
  {
   "cell_type": "code",
   "execution_count": 20,
   "metadata": {
    "collapsed": true
   },
   "outputs": [],
   "source": [
    "tm_final.to_csv(\"data/train_store_states_Python.csv\")"
   ]
  }
 ],
 "metadata": {
  "kernelspec": {
   "display_name": "Python 2",
   "language": "python",
   "name": "python2"
  },
  "language_info": {
   "codemirror_mode": {
    "name": "ipython",
    "version": 2
   },
   "file_extension": ".py",
   "mimetype": "text/x-python",
   "name": "python",
   "nbconvert_exporter": "python",
   "pygments_lexer": "ipython2",
   "version": "2.7.10"
  }
 },
 "nbformat": 4,
 "nbformat_minor": 0
}

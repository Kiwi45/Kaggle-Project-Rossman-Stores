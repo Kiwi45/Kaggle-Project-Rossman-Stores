{
 "cells": [
  {
   "cell_type": "code",
   "execution_count": 1,
   "metadata": {
    "collapsed": false
   },
   "outputs": [
    {
     "data": {
      "text/plain": [
       "u'/Users/jfdarre/Documents/NYCDS/Project4/KaggleProject'"
      ]
     },
     "execution_count": 1,
     "metadata": {},
     "output_type": "execute_result"
    }
   ],
   "source": [
    "pwd"
   ]
  },
  {
   "cell_type": "markdown",
   "metadata": {},
   "source": [
    "## Data munging starts: \n",
    "### Importing packages and data"
   ]
  },
  {
   "cell_type": "code",
   "execution_count": 95,
   "metadata": {
    "collapsed": true
   },
   "outputs": [],
   "source": [
    "import datetime\n",
    "import numpy as np\n",
    "from numpy import double\n",
    "import pandas as pd"
   ]
  },
  {
   "cell_type": "code",
   "execution_count": 96,
   "metadata": {
    "collapsed": false
   },
   "outputs": [
    {
     "name": "stdout",
     "output_type": "stream",
     "text": [
      "Loading data start...\n",
      "Complete!   : )\n"
     ]
    }
   ],
   "source": [
    "print(\"Loading data start...\")\n",
    "# train and test set provided by Rossmann\n",
    "train = pd.read_csv(\"input/train.csv\")\n",
    "test = pd.read_csv(\"input/test.csv\")\n",
    "print(\"Complete!\")"
   ]
  },
  {
   "cell_type": "code",
   "execution_count": 132,
   "metadata": {
    "collapsed": false
   },
   "outputs": [
    {
     "name": "stdout",
     "output_type": "stream",
     "text": [
      "Loading data start...\n",
      "Complete!\n"
     ]
    }
   ],
   "source": [
    "print(\"Loading data start...\")\n",
    "# external data\n",
    "store = pd.read_csv(\"input/store.csv\")\n",
    "states = pd.read_csv(\"input/store_states.csv\")\n",
    "eco_data = pd.read_csv(\"input/economic_data.csv\")\n",
    "print(\"Complete!\")"
   ]
  },
  {
   "cell_type": "markdown",
   "metadata": {},
   "source": [
    "## Data munging part I:\n",
    "### Clean up, merges and dates features"
   ]
  },
  {
   "cell_type": "code",
   "execution_count": 97,
   "metadata": {
    "collapsed": false
   },
   "outputs": [
    {
     "name": "stdout",
     "output_type": "stream",
     "text": [
      "Step 1 Complete.\n"
     ]
    }
   ],
   "source": [
    "# 1: Impute Open = 1 for store 622 in test data\n",
    "test['Open'].fillna(1, inplace=True)\n",
    "print 'Step 1 Complete.'"
   ]
  },
  {
   "cell_type": "code",
   "execution_count": 98,
   "metadata": {
    "collapsed": false
   },
   "outputs": [
    {
     "name": "stdout",
     "output_type": "stream",
     "text": [
      "Step 2 Complete\n"
     ]
    }
   ],
   "source": [
    "# 2: Merging the train and test for easy implementation of features\n",
    "train['type'] = 'train'\n",
    "test['type'] = 'test'\n",
    "all_data = [train, test]\n",
    "all_data = pd.concat(all_data)\n",
    "print 'Step 2 Complete'"
   ]
  },
  {
   "cell_type": "code",
   "execution_count": 99,
   "metadata": {
    "collapsed": false
   },
   "outputs": [
    {
     "name": "stdout",
     "output_type": "stream",
     "text": [
      "Step 3 Complete.\n"
     ]
    }
   ],
   "source": [
    "# 3: Separate date columns\n",
    "all_data['year']  = all_data.Date.apply(lambda x: x.split('-')[0])\n",
    "all_data['year']  = all_data['year'].astype(int)\n",
    "all_data['month'] = all_data.Date.apply(lambda x: x.split('-')[1])\n",
    "all_data['month'] = all_data['month'].astype(int)\n",
    "all_data['day']   = all_data.Date.apply(lambda x: x.split('-')[2])\n",
    "all_data['day']   = all_data['day'].astype(int)\n",
    "print 'Step 3 Complete.'"
   ]
  },
  {
   "cell_type": "code",
   "execution_count": 100,
   "metadata": {
    "collapsed": false
   },
   "outputs": [
    {
     "name": "stdout",
     "output_type": "stream",
     "text": [
      "Step 4 Complete.\n"
     ]
    }
   ],
   "source": [
    "# 4: Withdraw multiple date features\n",
    "all_data['Date']             = pd.to_datetime(all_data['Date'])\n",
    "all_data['day_of_year']      = all_data['Date'].dt.dayofyear\n",
    "all_data['quarter']          = all_data['Date'].dt.quarter\n",
    "all_data['is_month_start']   = all_data['Date'].dt.is_month_start.astype(int)\n",
    "all_data['is_month_end']     = all_data['Date'].dt.is_month_end.astype(int)\n",
    "all_data['is_quarter_start'] = all_data['Date'].dt.is_quarter_start.astype(int)\n",
    "all_data['is_quarter_end']   = all_data['Date'].dt.is_quarter_end.astype(int)\n",
    "all_data['weeknum']          = np.ceil(all_data['day_of_year']/7.)\n",
    "print 'Step 4 Complete.'"
   ]
  },
  {
   "cell_type": "code",
   "execution_count": 101,
   "metadata": {
    "collapsed": false
   },
   "outputs": [
    {
     "name": "stdout",
     "output_type": "stream",
     "text": [
      "Step 5 Complete.\n"
     ]
    }
   ],
   "source": [
    "# 5: Standardize StateHoliday column.\n",
    "all_data.ix[(all_data['StateHoliday'] == 0), 'StateHoliday'] = '0'\n",
    "print 'Step 5 Complete.'"
   ]
  },
  {
   "cell_type": "code",
   "execution_count": 102,
   "metadata": {
    "collapsed": false
   },
   "outputs": [
    {
     "name": "stdout",
     "output_type": "stream",
     "text": [
      "Step 6 Complete.\n"
     ]
    }
   ],
   "source": [
    "# 6: Setting 'Open' to 0 if Sales are 0\n",
    "all_data.ix[(all_data['Sales'] == 0), 'Open'] = 0\n",
    "print 'Step 6 Complete.'"
   ]
  },
  {
   "cell_type": "code",
   "execution_count": 103,
   "metadata": {
    "collapsed": false
   },
   "outputs": [
    {
     "name": "stdout",
     "output_type": "stream",
     "text": [
      "Step 7 Complete.\n"
     ]
    }
   ],
   "source": [
    "# 7: Create duration of promo 1\n",
    "all_data = all_data.sort(columns = ['Store', 'Date'], ascending = True, na_position = 'last')\n",
    "all_data['PromoFirstDate'] = 0\n",
    "all_data.ix[((all_data['Store'] == all_data['Store'].shift(1)) &\n",
    "          (all_data['Promo'] == 1 ) & (all_data['Promo'].shift(1) ==0)),\n",
    "         'PromoFirstDate'] = 1\n",
    "print 'Step 7 Complete.'"
   ]
  },
  {
   "cell_type": "code",
   "execution_count": 104,
   "metadata": {
    "collapsed": false
   },
   "outputs": [
    {
     "name": "stdout",
     "output_type": "stream",
     "text": [
      "Step 8 Complete.\n"
     ]
    }
   ],
   "source": [
    "# 8: Joining States:\n",
    "all_data = pd.merge(all_data, states, on = 'Store', how = 'inner')\n",
    "print 'Step 8 Complete.'"
   ]
  },
  {
   "cell_type": "markdown",
   "metadata": {},
   "source": [
    "## Data munging part II: \n",
    "### Adding some usefull functions:"
   ]
  },
  {
   "cell_type": "code",
   "execution_count": 105,
   "metadata": {
    "collapsed": false
   },
   "outputs": [
    {
     "name": "stdout",
     "output_type": "stream",
     "text": [
      "function 1: rstr added\n"
     ]
    }
   ],
   "source": [
    "# f1: Creating a function to summarize our data\n",
    "def rstr(df): \n",
    "    print df.shape\n",
    "    print '=' * 72\n",
    "    print df.apply(lambda x: [x.unique()])\n",
    "    print '=' * 72\n",
    "    print pd.isnull(df).any()\n",
    "print 'function 1: rstr added'"
   ]
  },
  {
   "cell_type": "code",
   "execution_count": 106,
   "metadata": {
    "collapsed": false
   },
   "outputs": [
    {
     "name": "stdout",
     "output_type": "stream",
     "text": [
      "function 2: shif_col added\n"
     ]
    }
   ],
   "source": [
    "# f2: Creating a function to shift columns and making sure to distinguish between stores\n",
    "def shift_col(df, col_name, n):\n",
    "    df[col_name + str(n)] = df[col_name].shift(n)\n",
    "    df.ix[(df['Store'] != df['Store'].shift(n)), col_name + str(n)] = float('NaN')\n",
    "print 'function 2: shif_col added'    "
   ]
  },
  {
   "cell_type": "code",
   "execution_count": 111,
   "metadata": {
    "collapsed": false
   },
   "outputs": [
    {
     "data": {
      "text/html": [
       "<div>\n",
       "<table border=\"1\" class=\"dataframe\">\n",
       "  <thead>\n",
       "    <tr style=\"text-align: right;\">\n",
       "      <th></th>\n",
       "      <th>Sales</th>\n",
       "      <th>Store</th>\n",
       "      <th>Sales2</th>\n",
       "      <th>Sales-1</th>\n",
       "    </tr>\n",
       "  </thead>\n",
       "  <tbody>\n",
       "    <tr>\n",
       "      <th>0</th>\n",
       "      <td>1</td>\n",
       "      <td>1</td>\n",
       "      <td>NaN</td>\n",
       "      <td>2</td>\n",
       "    </tr>\n",
       "    <tr>\n",
       "      <th>1</th>\n",
       "      <td>2</td>\n",
       "      <td>1</td>\n",
       "      <td>NaN</td>\n",
       "      <td>3</td>\n",
       "    </tr>\n",
       "    <tr>\n",
       "      <th>2</th>\n",
       "      <td>3</td>\n",
       "      <td>1</td>\n",
       "      <td>1</td>\n",
       "      <td>4</td>\n",
       "    </tr>\n",
       "    <tr>\n",
       "      <th>3</th>\n",
       "      <td>4</td>\n",
       "      <td>1</td>\n",
       "      <td>2</td>\n",
       "      <td>5</td>\n",
       "    </tr>\n",
       "    <tr>\n",
       "      <th>4</th>\n",
       "      <td>5</td>\n",
       "      <td>1</td>\n",
       "      <td>3</td>\n",
       "      <td>NaN</td>\n",
       "    </tr>\n",
       "    <tr>\n",
       "      <th>5</th>\n",
       "      <td>1</td>\n",
       "      <td>2</td>\n",
       "      <td>NaN</td>\n",
       "      <td>2</td>\n",
       "    </tr>\n",
       "    <tr>\n",
       "      <th>6</th>\n",
       "      <td>2</td>\n",
       "      <td>2</td>\n",
       "      <td>NaN</td>\n",
       "      <td>3</td>\n",
       "    </tr>\n",
       "    <tr>\n",
       "      <th>7</th>\n",
       "      <td>3</td>\n",
       "      <td>2</td>\n",
       "      <td>1</td>\n",
       "      <td>4</td>\n",
       "    </tr>\n",
       "    <tr>\n",
       "      <th>8</th>\n",
       "      <td>4</td>\n",
       "      <td>2</td>\n",
       "      <td>2</td>\n",
       "      <td>5</td>\n",
       "    </tr>\n",
       "    <tr>\n",
       "      <th>9</th>\n",
       "      <td>5</td>\n",
       "      <td>2</td>\n",
       "      <td>3</td>\n",
       "      <td>NaN</td>\n",
       "    </tr>\n",
       "  </tbody>\n",
       "</table>\n",
       "</div>"
      ],
      "text/plain": [
       "   Sales  Store  Sales2  Sales-1\n",
       "0      1      1     NaN        2\n",
       "1      2      1     NaN        3\n",
       "2      3      1       1        4\n",
       "3      4      1       2        5\n",
       "4      5      1       3      NaN\n",
       "5      1      2     NaN        2\n",
       "6      2      2     NaN        3\n",
       "7      3      2       1        4\n",
       "8      4      2       2        5\n",
       "9      5      2       3      NaN"
      ]
     },
     "execution_count": 111,
     "metadata": {},
     "output_type": "execute_result"
    }
   ],
   "source": [
    "# f2.1: Demonstrating what shift_col does:\n",
    "temp = pd.DataFrame({\n",
    "        'Sales': [1,2,3,4,5,1,2,3,4,5],\n",
    "        'Store': [1,1,1,1,1,2,2,2,2,2]\n",
    "    })\n",
    "shift_col(temp, 'Sales', 2)\n",
    "shift_col(temp, 'Sales', -1)\n",
    "temp"
   ]
  },
  {
   "cell_type": "markdown",
   "metadata": {},
   "source": [
    "## Data munging part III: \n",
    "### Adding Schedule and historic Sales"
   ]
  },
  {
   "cell_type": "code",
   "execution_count": 113,
   "metadata": {
    "collapsed": false
   },
   "outputs": [
    {
     "name": "stdout",
     "output_type": "stream",
     "text": [
      "Step 9 Complete.\n"
     ]
    }
   ],
   "source": [
    "# 9: now we can add previous sales for the past 21 days:\n",
    "for i in range(1,22):\n",
    "    shift_col(all_data, 'Sales', i)\n",
    "print 'Step 9 Complete.'"
   ]
  },
  {
   "cell_type": "code",
   "execution_count": 114,
   "metadata": {
    "collapsed": false
   },
   "outputs": [
    {
     "name": "stdout",
     "output_type": "stream",
     "text": [
      "Step 10 Complete.\n"
     ]
    }
   ],
   "source": [
    "# 10: now we can add previous open for the past 21 days:\n",
    "for i in range(1,22):\n",
    "    shift_col(all_data, 'Open', i)\n",
    "print 'Step 10 Complete.'"
   ]
  },
  {
   "cell_type": "code",
   "execution_count": 115,
   "metadata": {
    "collapsed": false
   },
   "outputs": [
    {
     "name": "stdout",
     "output_type": "stream",
     "text": [
      "Step 11 Complete.\n"
     ]
    }
   ],
   "source": [
    "# 11: now we can add next open for the past 21 days:\n",
    "for i in range(1,22):\n",
    "    shift_col(all_data, 'Sales', -i)\n",
    "print 'Step 11 Complete.'"
   ]
  },
  {
   "cell_type": "code",
   "execution_count": 131,
   "metadata": {
    "collapsed": false
   },
   "outputs": [
    {
     "data": {
      "text/plain": [
       "array(['HE', 'TH', 'NW', 'BE', 'SN', 'SH', 'HB,NI', 'BY', 'BW', 'RP', 'ST',\n",
       "       'HH'], dtype=object)"
      ]
     },
     "execution_count": 131,
     "metadata": {},
     "output_type": "execute_result"
    }
   ],
   "source": [
    "all_data['State'].unique()"
   ]
  },
  {
   "cell_type": "code",
   "execution_count": null,
   "metadata": {
    "collapsed": true
   },
   "outputs": [],
   "source": []
  }
 ],
 "metadata": {
  "kernelspec": {
   "display_name": "Python 2",
   "language": "python",
   "name": "python2"
  },
  "language_info": {
   "codemirror_mode": {
    "name": "ipython",
    "version": 2
   },
   "file_extension": ".py",
   "mimetype": "text/x-python",
   "name": "python",
   "nbconvert_exporter": "python",
   "pygments_lexer": "ipython2",
   "version": "2.7.10"
  }
 },
 "nbformat": 4,
 "nbformat_minor": 0
}

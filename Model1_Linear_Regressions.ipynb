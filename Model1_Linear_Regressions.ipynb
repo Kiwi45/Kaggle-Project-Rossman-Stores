{
 "cells": [
  {
   "cell_type": "code",
   "execution_count": null,
   "metadata": {
    "collapsed": true
   },
   "outputs": [],
   "source": [
    "######################################################################################################################\n",
    "######################################################################################################################\n",
    "#\n",
    "# TRAINING\n",
    "#\n",
    "######################################################################################################################\n",
    "######################################################################################################################"
   ]
  },
  {
   "cell_type": "code",
   "execution_count": 266,
   "metadata": {
    "collapsed": true
   },
   "outputs": [],
   "source": [
    "import numpy as np\n",
    "import pandas as pd\n",
    "from sklearn import linear_model\n",
    "import matplotlib.pyplot as plt"
   ]
  },
  {
   "cell_type": "code",
   "execution_count": 267,
   "metadata": {
    "collapsed": false
   },
   "outputs": [],
   "source": [
    "# importing the data\n",
    "tm_dummy = pd.read_csv('data/train_store_states_Python.csv')"
   ]
  },
  {
   "cell_type": "code",
   "execution_count": 268,
   "metadata": {
    "collapsed": true
   },
   "outputs": [],
   "source": [
    "tm_dummy = tm_dummy[tm_dummy['Sales'] != 0]"
   ]
  },
  {
   "cell_type": "code",
   "execution_count": 269,
   "metadata": {
    "collapsed": false
   },
   "outputs": [],
   "source": [
    "x = tm_dummy.drop(['Sales', 'Customers', 'Date', 'Unnamed: 0'], 1)\n",
    "y = tm_dummy[['Store','Sales']]"
   ]
  },
  {
   "cell_type": "code",
   "execution_count": 270,
   "metadata": {
    "collapsed": false
   },
   "outputs": [],
   "source": [
    "x['PromoInterval'].fillna(0, inplace = True)\n",
    "x.ix[(x['PromoInterval'] == 'Jan,Apr,Jul,Oct'), 'PromoInterval'] = 1\n",
    "x.ix[(x['PromoInterval'] == 'Feb,May,Aug,Nov'), 'PromoInterval'] = 2\n",
    "x.ix[(x['PromoInterval'] == 'Mar,Jun,Sept,Dec'), 'PromoInterval'] = 3"
   ]
  },
  {
   "cell_type": "code",
   "execution_count": 271,
   "metadata": {
    "collapsed": false
   },
   "outputs": [],
   "source": [
    "x_PI = pd.get_dummies(x.PromoInterval, 'PI')\n",
    "x = pd.concat([x, x_PI[x_PI.columns[1:]]],axis = 1)"
   ]
  },
  {
   "cell_type": "code",
   "execution_count": 272,
   "metadata": {
    "collapsed": false
   },
   "outputs": [],
   "source": [
    "x.drop(['Promo2SinceWeek','Promo2SinceYear','PromoInterval','CompetitionDistance','CompetitionOpenSinceMonth','CompetitionOpenSinceYear'],1,inplace = True)"
   ]
  },
  {
   "cell_type": "code",
   "execution_count": 289,
   "metadata": {
    "collapsed": false
   },
   "outputs": [
    {
     "name": "stdout",
     "output_type": "stream",
     "text": [
      "Start!\n",
      "End!\n"
     ]
    }
   ],
   "source": [
    "runs = 1115\n",
    "y = tm_dummy[['Store','Sales']]\n",
    "\n",
    "models = {}\n",
    "print \"Start!\"\n",
    "for i in range(1,runs+1):\n",
    "    model = linear_model.LinearRegression()\n",
    "    x_temp = x[x.Store==i].drop('Store',1)\n",
    "    y_temp = np.log(y[y.Store==i].drop('Store',1))\n",
    "    models['model_' + str(i)] = model.fit(x_temp, y_temp)\n",
    "print \"End!\""
   ]
  },
  {
   "cell_type": "code",
   "execution_count": 233,
   "metadata": {
    "collapsed": false
   },
   "outputs": [],
   "source": [
    "def rmse(predictions, targets):\n",
    "   return ((predictions - targets)/targets) ** 2"
   ]
  },
  {
   "cell_type": "code",
   "execution_count": 234,
   "metadata": {
    "collapsed": false
   },
   "outputs": [
    {
     "name": "stdout",
     "output_type": "stream",
     "text": [
      "Start!\n",
      "End!\n"
     ]
    }
   ],
   "source": [
    "scores = {}\n",
    "y = tm_dummy[['Store','Sales', 'month']]\n",
    "print \"Start!\"\n",
    "for i in range(1,runs):\n",
    "    x_temp = x[(x.Store == i) & ((x.month == 8) | (x.month == 9))].drop('Store',1)\n",
    "    trgts = np.array(y[(x.Store == i) & ((x.month == 8) | (x.month == 9))].drop(['Store','month'],1))\n",
    "    preds = np.exp(models['model_' + str(i)].predict(x_temp))\n",
    "    scores['model_' + str(i)] = rmse(preds, trgts)\n",
    "print \"End!\""
   ]
  },
  {
   "cell_type": "code",
   "execution_count": 235,
   "metadata": {
    "collapsed": false
   },
   "outputs": [
    {
     "data": {
      "text/plain": [
       "0.17850673642449896"
      ]
     },
     "execution_count": 235,
     "metadata": {},
     "output_type": "execute_result"
    }
   ],
   "source": [
    "total = 0\n",
    "for i in range(1,runs):\n",
    "    total += sum(scores['model_' + str(i)])\n",
    "np.sqrt(total/(runs*104))[0]"
   ]
  },
  {
   "cell_type": "code",
   "execution_count": null,
   "metadata": {
    "collapsed": true
   },
   "outputs": [],
   "source": [
    "######################################################################################################################\n",
    "######################################################################################################################\n",
    "#\n",
    "# TESTING\n",
    "#\n",
    "######################################################################################################################\n",
    "######################################################################################################################"
   ]
  },
  {
   "cell_type": "code",
   "execution_count": 260,
   "metadata": {
    "collapsed": true
   },
   "outputs": [],
   "source": [
    "test = pd.read_csv('data/test_store_states_Python.csv')"
   ]
  },
  {
   "cell_type": "code",
   "execution_count": 278,
   "metadata": {
    "collapsed": false
   },
   "outputs": [],
   "source": [
    "x_test = test.drop(['Date', 'Unnamed: 0'], 1)\n",
    "x_test['PromoInterval'].fillna(0, inplace = True)\n",
    "x_test.ix[(x_test['PromoInterval'] == 'Jan,Apr,Jul,Oct'), 'PromoInterval'] = 1\n",
    "x_test.ix[(x_test['PromoInterval'] == 'Feb,May,Aug,Nov'), 'PromoInterval'] = 2\n",
    "x_test.ix[(x_test['PromoInterval'] == 'Mar,Jun,Sept,Dec'), 'PromoInterval'] = 3\n",
    "x_PI = pd.get_dummies(x_test.PromoInterval, 'PI')\n",
    "x_test = pd.concat([x_test, x_PI[x_PI.columns[1:]]],axis = 1)\n",
    "x_test.drop(['Promo2SinceWeek','Promo2SinceYear','PromoInterval','CompetitionDistance','CompetitionOpenSinceMonth','CompetitionOpenSinceYear'],1,inplace = True)"
   ]
  },
  {
   "cell_type": "code",
   "execution_count": 282,
   "metadata": {
    "collapsed": true
   },
   "outputs": [],
   "source": [
    "x_test['State_BW'] = 0\n",
    "x_test['State_SN'] = 0\n",
    "x_test['State_ST'] = 0\n",
    "x_test['State_TH'] = 0\n",
    "x_test['StateHoliday_b'] = 0\n",
    "x_test['StateHoliday_c'] = 0"
   ]
  },
  {
   "cell_type": "code",
   "execution_count": 303,
   "metadata": {
    "collapsed": false
   },
   "outputs": [
    {
     "name": "stdout",
     "output_type": "stream",
     "text": [
      "Start!\n",
      "End!\n"
     ]
    }
   ],
   "source": [
    "preds = []\n",
    "y = tm_dummy[['Store','Sales', 'month']]\n",
    "print \"Start!\"\n",
    "for i in x_test['Store'].unique().astype(int):\n",
    "    x_temp = x_test[(x_test.Store == i)].drop(['Id','Store'],1)\n",
    "    pred = np.exp(models['model_' + str(i)].predict(x_temp))\n",
    "    for j in pred:\n",
    "        preds.append(j[0])\n",
    "print \"End!\""
   ]
  },
  {
   "cell_type": "code",
   "execution_count": 308,
   "metadata": {
    "collapsed": false
   },
   "outputs": [],
   "source": [
    "x_test['Sales'] = preds"
   ]
  },
  {
   "cell_type": "code",
   "execution_count": 311,
   "metadata": {
    "collapsed": false
   },
   "outputs": [],
   "source": [
    "x_test.ix[(x_test['Open'] == 0), 'Sales'] = 0"
   ]
  },
  {
   "cell_type": "code",
   "execution_count": 314,
   "metadata": {
    "collapsed": false
   },
   "outputs": [],
   "source": [
    "submit = x_test[['Id','Sales']]\n",
    "submit = submit.sort(columns = ['Id'], ascending = True)"
   ]
  },
  {
   "cell_type": "code",
   "execution_count": 316,
   "metadata": {
    "collapsed": false
   },
   "outputs": [],
   "source": [
    "submit.to_csv(\"data/Model1_submit.csv\")"
   ]
  },
  {
   "cell_type": "code",
   "execution_count": null,
   "metadata": {
    "collapsed": true
   },
   "outputs": [],
   "source": []
  }
 ],
 "metadata": {
  "kernelspec": {
   "display_name": "Python 2",
   "language": "python",
   "name": "python2"
  },
  "language_info": {
   "codemirror_mode": {
    "name": "ipython",
    "version": 2
   },
   "file_extension": ".py",
   "mimetype": "text/x-python",
   "name": "python",
   "nbconvert_exporter": "python",
   "pygments_lexer": "ipython2",
   "version": "2.7.10"
  }
 },
 "nbformat": 4,
 "nbformat_minor": 0
}

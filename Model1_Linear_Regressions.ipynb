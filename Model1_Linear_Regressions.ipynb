{
 "cells": [
  {
   "cell_type": "code",
   "execution_count": 115,
   "metadata": {
    "collapsed": true
   },
   "outputs": [],
   "source": [
    "import numpy as np\n",
    "import pandas as pd\n",
    "from sklearn import linear_model\n",
    "import matplotlib.pyplot as plt"
   ]
  },
  {
   "cell_type": "code",
   "execution_count": 89,
   "metadata": {
    "collapsed": false
   },
   "outputs": [],
   "source": [
    "# importing the data\n",
    "tm_dummy = pd.read_csv('data/train_store_states_Python.csv')"
   ]
  },
  {
   "cell_type": "code",
   "execution_count": 90,
   "metadata": {
    "collapsed": true
   },
   "outputs": [],
   "source": [
    "tm_dummy = tm_dummy[tm_dummy['Sales'] != 0]"
   ]
  },
  {
   "cell_type": "code",
   "execution_count": 91,
   "metadata": {
    "collapsed": false
   },
   "outputs": [],
   "source": [
    "x = tm_dummy.drop(['Sales', 'Customers', 'Date', 'Unnamed: 0'], 1)\n",
    "y = tm_dummy[['Store','Sales']]"
   ]
  },
  {
   "cell_type": "code",
   "execution_count": 92,
   "metadata": {
    "collapsed": false
   },
   "outputs": [],
   "source": [
    "x['PromoInterval'].fillna(0, inplace = True)\n",
    "x.ix[(x['PromoInterval'] == 'Jan,Apr,Jul,Oct'), 'PromoInterval'] = 1\n",
    "x.ix[(x['PromoInterval'] == 'Feb,May,Aug,Nov'), 'PromoInterval'] = 2\n",
    "x.ix[(x['PromoInterval'] == 'Mar,Jun,Sept,Dec'), 'PromoInterval'] = 3"
   ]
  },
  {
   "cell_type": "code",
   "execution_count": 93,
   "metadata": {
    "collapsed": false
   },
   "outputs": [],
   "source": [
    "x_PI = pd.get_dummies(x.PromoInterval, 'PI')\n",
    "x = pd.concat([x, x_PI[x_PI.columns[1:]]],axis = 1)"
   ]
  },
  {
   "cell_type": "code",
   "execution_count": 94,
   "metadata": {
    "collapsed": false
   },
   "outputs": [],
   "source": [
    "x.drop(['Promo2SinceWeek','Promo2SinceYear','PromoInterval','CompetitionDistance','CompetitionOpenSinceMonth','CompetitionOpenSinceYear'],1,inplace = True)"
   ]
  },
  {
   "cell_type": "code",
   "execution_count": 232,
   "metadata": {
    "collapsed": false
   },
   "outputs": [
    {
     "name": "stdout",
     "output_type": "stream",
     "text": [
      "Start!\n",
      "End!\n"
     ]
    }
   ],
   "source": [
    "runs = 1115\n",
    "y = tm_dummy[['Store','Sales']]\n",
    "\n",
    "models = {}\n",
    "print \"Start!\"\n",
    "for i in range(1,runs):\n",
    "    model = linear_model.LinearRegression()\n",
    "    x_temp = x[x.Store==i].drop('Store',1)\n",
    "    y_temp = np.log(y[y.Store==i].drop('Store',1))\n",
    "    models['model_' + str(i)] = model.fit(x_temp, y_temp)\n",
    "print \"End!\""
   ]
  },
  {
   "cell_type": "code",
   "execution_count": 233,
   "metadata": {
    "collapsed": false
   },
   "outputs": [],
   "source": [
    "def rmse(predictions, targets):\n",
    "   return ((predictions - targets)/targets) ** 2"
   ]
  },
  {
   "cell_type": "code",
   "execution_count": 234,
   "metadata": {
    "collapsed": false
   },
   "outputs": [
    {
     "name": "stdout",
     "output_type": "stream",
     "text": [
      "Start!\n",
      "End!\n"
     ]
    }
   ],
   "source": [
    "scores = {}\n",
    "y = tm_dummy[['Store','Sales', 'month']]\n",
    "print \"Start!\"\n",
    "for i in range(1,runs):\n",
    "    x_temp = x[(x.Store == i) & ((x.month == 8) | (x.month == 9))].drop('Store',1)\n",
    "    trgts = np.array(y[(x.Store == i) & ((x.month == 8) | (x.month == 9))].drop(['Store','month'],1))\n",
    "    preds = np.exp(models['model_' + str(i)].predict(x_temp))\n",
    "    scores['model_' + str(i)] = rmse(preds, trgts)\n",
    "print \"End!\""
   ]
  },
  {
   "cell_type": "code",
   "execution_count": 235,
   "metadata": {
    "collapsed": false
   },
   "outputs": [
    {
     "data": {
      "text/plain": [
       "0.17850673642449896"
      ]
     },
     "execution_count": 235,
     "metadata": {},
     "output_type": "execute_result"
    }
   ],
   "source": [
    "total = 0\n",
    "for i in range(1,runs):\n",
    "    total += sum(scores['model_' + str(i)])\n",
    "np.sqrt(total/(runs*104))[0]"
   ]
  },
  {
   "cell_type": "code",
   "execution_count": null,
   "metadata": {
    "collapsed": true
   },
   "outputs": [],
   "source": []
  }
 ],
 "metadata": {
  "kernelspec": {
   "display_name": "Python 2",
   "language": "python",
   "name": "python2"
  },
  "language_info": {
   "codemirror_mode": {
    "name": "ipython",
    "version": 2
   },
   "file_extension": ".py",
   "mimetype": "text/x-python",
   "name": "python",
   "nbconvert_exporter": "python",
   "pygments_lexer": "ipython2",
   "version": "2.7.10"
  }
 },
 "nbformat": 4,
 "nbformat_minor": 0
}
